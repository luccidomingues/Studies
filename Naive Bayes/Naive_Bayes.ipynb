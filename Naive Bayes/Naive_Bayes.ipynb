{
  "nbformat": 4,
  "nbformat_minor": 0,
  "metadata": {
    "colab": {
      "name": "Naive Bayes.ipynb",
      "provenance": []
    },
    "kernelspec": {
      "name": "python3",
      "display_name": "Python 3"
    },
    "language_info": {
      "name": "python"
    }
  },
  "cells": [
    {
      "cell_type": "markdown",
      "metadata": {
        "id": "L6UjmjbDDN70"
      },
      "source": [
        "Naive Bayes Algorithm\n",
        "\n",
        "In machine learning, the Naive Bayes is a classification algorithm based on Bayes’ theorem. It is said to be naive because the foundation of this algorithm is based on naive assumptions. Some of the advantages of this algorithm are:\n",
        "\n",
        "It is a very simple algorithm for classification problems compared to other classification algorithms.\n",
        "It is also a very powerful algorithm which implies that it is faster to predict labels using it compared to other classification algorithms.\n",
        "Another advantage of using it is that it can also give better results on small datasets compared to other algorithms.\n",
        "Like all other machine learning algorithms, it also has some drawbacks. One of the biggest drawbacks that sometimes matters in classification issues is that Naive Bayes have a very strong assumption that features are independent of each other. It is therefore difficult to find such datasets in real problems where the features are independent of each other.\n",
        "\n",
        "\n",
        "Assumptions:\n",
        "The naive hypothesis of the Naive Bayes classifier states that each entity in the dataset makes an independent and equal contribution to the prediction of the labels.\n",
        "\n",
        "Simply put, we can say that we may not find any correlation between features and that each feature has equal importance for the formation of a classification model.\n",
        "These assumptions are usually not true when working in real-life problems, but the algorithm still works well, which is why it is known as the “naive” Bayes.\n",
        "\n",
        "\n",
        "Types:\n",
        "There are three types of Naive Bayes classifiers which depend on the distribution of the dataset, namely; Gaussian, Mautinomial and Bernoulli. Let’s review the types of Naive Bayes Classifier before we implement this algorithm using Python:\n",
        "\n",
        "1.   Gaussian: It is used when the dataset is normally distributed.\n",
        "2.   Multinomial: It is used when the dataset contains discrete values.\n",
        "3.   Bernoulli: It is used while working on binary classification problems.\n",
        "\n",
        "\n",
        "\n",
        "\n",
        "\n",
        "\n"
      ]
    },
    {
      "cell_type": "code",
      "metadata": {
        "id": "HmdLXOrABET4"
      },
      "source": [
        "from sklearn.naive_bayes import GaussianNB\n",
        "from sklearn.naive_bayes import MultinomialNB\n",
        "from sklearn import datasets\n",
        "from sklearn.metrics import confusion_matrix"
      ],
      "execution_count": 1,
      "outputs": []
    },
    {
      "cell_type": "code",
      "metadata": {
        "id": "bjeEkdWrBKMb"
      },
      "source": [
        "iris = datasets.load_iris()\n",
        "gnb = GaussianNB()\n",
        "mnb = MultinomialNB()"
      ],
      "execution_count": 3,
      "outputs": []
    },
    {
      "cell_type": "code",
      "metadata": {
        "colab": {
          "base_uri": "https://localhost:8080/"
        },
        "id": "3qaapUhVCM0y",
        "outputId": "977c50b8-519b-4ed7-86aa-83b63f94f434"
      },
      "source": [
        "y_pred_gnb = gnb.fit(iris.data, iris.target).predict(iris.data)\n",
        "cnf_matrix_gnb = confusion_matrix(iris.target, y_pred_gnb)\n",
        "print(cnf_matrix_gnb)"
      ],
      "execution_count": 4,
      "outputs": [
        {
          "output_type": "stream",
          "text": [
            "[[50  0  0]\n",
            " [ 0 47  3]\n",
            " [ 0  3 47]]\n"
          ],
          "name": "stdout"
        }
      ]
    },
    {
      "cell_type": "code",
      "metadata": {
        "colab": {
          "base_uri": "https://localhost:8080/"
        },
        "id": "NLN28UXxCKD9",
        "outputId": "1257d1a1-61c2-4acc-ea1a-6e52a42701d0"
      },
      "source": [
        "y_pred_mnb = mnb.fit(iris.data, iris.target).predict(iris.data)\n",
        "cnf_matrix_mnb = confusion_matrix(iris.target, y_pred_mnb)\n",
        "print(cnf_matrix_mnb)"
      ],
      "execution_count": 6,
      "outputs": [
        {
          "output_type": "stream",
          "text": [
            "[[50  0  0]\n",
            " [ 0 46  4]\n",
            " [ 0  3 47]]\n"
          ],
          "name": "stdout"
        }
      ]
    },
    {
      "cell_type": "markdown",
      "metadata": {
        "id": "1r4dPGp6CXby"
      },
      "source": [
        "Some of the real-time issues where the Naive Bayes classifier can be used are:\n",
        "\n",
        "*   Text Classification\n",
        "*   Spam Detection\n",
        "*   Sentiment Analysis\n",
        "*   Recommendation Systems\n",
        "\n",
        "\n",
        "\n",
        "\n",
        "\n",
        "\n",
        "\n"
      ]
    },
    {
      "cell_type": "code",
      "metadata": {
        "id": "fTfwXe3fCAjr"
      },
      "source": [
        ""
      ],
      "execution_count": null,
      "outputs": []
    }
  ]
}